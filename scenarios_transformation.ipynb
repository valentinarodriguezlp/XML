{
 "cells": [
  {
   "cell_type": "markdown",
   "id": "57e58aa1-957e-421f-94e7-4ece290971d9",
   "metadata": {},
   "source": [
    "### Using API"
   ]
  },
  {
   "cell_type": "code",
   "execution_count": 1,
   "id": "e2206f7c-741a-4ef4-bd2e-95980927b91b",
   "metadata": {
    "tags": []
   },
   "outputs": [
    {
     "data": {
      "text/plain": [
       "'XML_File_Final.xml'"
      ]
     },
     "execution_count": 1,
     "metadata": {},
     "output_type": "execute_result"
    }
   ],
   "source": [
    "import lxml.etree as ET\n",
    "\n",
    "# Load the XML data\n",
    "xml_file = \"XML_File_Final.xml\"\n",
    "xml_file"
   ]
  },
  {
   "cell_type": "code",
   "execution_count": 14,
   "id": "b89a1454-0720-46b9-887f-4437f5326d96",
   "metadata": {
    "tags": []
   },
   "outputs": [
    {
     "name": "stdout",
     "output_type": "stream",
     "text": [
      "Success\n"
     ]
    }
   ],
   "source": [
    "# Apply the xsl stylesheet\n",
    "xsl_file = \"list of weekend activities.xsl\"\n",
    "dom = ET.parse(xml_file)\n",
    "xslt = ET.parse(xsl_file)\n",
    "transform = ET.XSLT(xslt)\n",
    "result = transform(dom)\n",
    "\n",
    "# Save the HTML output to a file\n",
    "with open(\"list of weekend activities.html\", \"wb\") as f:\n",
    "    f.write(result)\n",
    "\n",
    "print(\"Success\")"
   ]
  },
  {
   "cell_type": "code",
   "execution_count": null,
   "id": "8f5a0183-aa63-4a23-b5fb-3f2d1af5e270",
   "metadata": {},
   "outputs": [],
   "source": []
  }
 ],
 "metadata": {
  "kernelspec": {
   "display_name": "Python 3 (ipykernel)",
   "language": "python",
   "name": "python3"
  },
  "language_info": {
   "codemirror_mode": {
    "name": "ipython",
    "version": 3
   },
   "file_extension": ".py",
   "mimetype": "text/x-python",
   "name": "python",
   "nbconvert_exporter": "python",
   "pygments_lexer": "ipython3",
   "version": "3.11.4"
  }
 },
 "nbformat": 4,
 "nbformat_minor": 5
}
